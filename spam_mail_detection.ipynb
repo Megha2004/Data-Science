{
  "cells": [
    {
      "cell_type": "code",
      "execution_count": null,
      "metadata": {
        "id": "LfJ4UokSO2GG"
      },
      "outputs": [],
      "source": [
        "import numpy as np\n",
        "import pandas as pd\n",
        "from sklearn.model_selection import train_test_split\n",
        "from sklearn.feature_extraction.text import TfidfVectorizer\n",
        "from sklearn.linear_model import LogisticRegression\n",
        "from sklearn.metrics import accuracy_score"
      ]
    },
    {
      "cell_type": "code",
      "execution_count": null,
      "metadata": {
        "id": "dWnC1niVO8XE"
      },
      "outputs": [],
      "source": [
        "# loading the data from csv file to a pandas Dataframe\n",
        "raw_mail_data = pd.read_csv('/content/spam mail dataset final ().csv')"
      ]
    },
    {
      "cell_type": "code",
      "execution_count": null,
      "metadata": {
        "colab": {
          "base_uri": "https://localhost:8080/"
        },
        "id": "Ti5gV5wHO8aA",
        "outputId": "ca24dcaa-bec8-4ecb-a09e-7d93dd0729aa"
      },
      "outputs": [
        {
          "output_type": "stream",
          "name": "stdout",
          "text": [
            "     Unnamed: 0 label                                               text\n",
            "0           605   ham  Subject: Thanks for signing into Google on you...\n",
            "1          2349   ham  Subject: Megha, take the next step on your Win...\n",
            "2          3624   ham  Subject: Placement war: Students from these II...\n",
            "3          4685  spam  Subject:Enroll in any course, get 2 Linux berk...\n",
            "4          2030  spam  Subject:Have ideas to improve healthcare in In...\n",
            "..          ...   ...                                                ...\n",
            "115        4362  spam    Subject: young sluts had sex for tewnty bucks\\r\n",
            "116        2432   ham   Subject: take 30 % off with our super ticket !\\r\n",
            "117        2012   ham                            Subject: updated list\\r\n",
            "118        2862   ham             Subject: hpl nom for march 27 , 2001\\r\n",
            "119        4095  spam       Subject: what she doesnt know sprig bashaw\\r\n",
            "\n",
            "[120 rows x 3 columns]\n"
          ]
        }
      ],
      "source": [
        "print(raw_mail_data)"
      ]
    },
    {
      "cell_type": "code",
      "execution_count": null,
      "metadata": {
        "id": "gT_kbNupO8dR"
      },
      "outputs": [],
      "source": [
        "\n",
        "mail_data = raw_mail_data.where((pd.notnull(raw_mail_data)),'')"
      ]
    },
    {
      "cell_type": "code",
      "execution_count": null,
      "metadata": {
        "colab": {
          "base_uri": "https://localhost:8080/",
          "height": 206
        },
        "id": "ewH2iZERPjHa",
        "outputId": "28cdae6d-d0d8-4286-e980-153a5903d931"
      },
      "outputs": [
        {
          "output_type": "execute_result",
          "data": {
            "text/plain": [
              "   Unnamed: 0 label                                               text\n",
              "0         605   ham  Subject: Thanks for signing into Google on you...\n",
              "1        2349   ham  Subject: Megha, take the next step on your Win...\n",
              "2        3624   ham  Subject: Placement war: Students from these II...\n",
              "3        4685  spam  Subject:Enroll in any course, get 2 Linux berk...\n",
              "4        2030  spam  Subject:Have ideas to improve healthcare in In..."
            ],
            "text/html": [
              "\n",
              "  <div id=\"df-b2e12d05-c67d-4e5f-bbb5-042c4515569e\">\n",
              "    <div class=\"colab-df-container\">\n",
              "      <div>\n",
              "<style scoped>\n",
              "    .dataframe tbody tr th:only-of-type {\n",
              "        vertical-align: middle;\n",
              "    }\n",
              "\n",
              "    .dataframe tbody tr th {\n",
              "        vertical-align: top;\n",
              "    }\n",
              "\n",
              "    .dataframe thead th {\n",
              "        text-align: right;\n",
              "    }\n",
              "</style>\n",
              "<table border=\"1\" class=\"dataframe\">\n",
              "  <thead>\n",
              "    <tr style=\"text-align: right;\">\n",
              "      <th></th>\n",
              "      <th>Unnamed: 0</th>\n",
              "      <th>label</th>\n",
              "      <th>text</th>\n",
              "    </tr>\n",
              "  </thead>\n",
              "  <tbody>\n",
              "    <tr>\n",
              "      <th>0</th>\n",
              "      <td>605</td>\n",
              "      <td>ham</td>\n",
              "      <td>Subject: Thanks for signing into Google on you...</td>\n",
              "    </tr>\n",
              "    <tr>\n",
              "      <th>1</th>\n",
              "      <td>2349</td>\n",
              "      <td>ham</td>\n",
              "      <td>Subject: Megha, take the next step on your Win...</td>\n",
              "    </tr>\n",
              "    <tr>\n",
              "      <th>2</th>\n",
              "      <td>3624</td>\n",
              "      <td>ham</td>\n",
              "      <td>Subject: Placement war: Students from these II...</td>\n",
              "    </tr>\n",
              "    <tr>\n",
              "      <th>3</th>\n",
              "      <td>4685</td>\n",
              "      <td>spam</td>\n",
              "      <td>Subject:Enroll in any course, get 2 Linux berk...</td>\n",
              "    </tr>\n",
              "    <tr>\n",
              "      <th>4</th>\n",
              "      <td>2030</td>\n",
              "      <td>spam</td>\n",
              "      <td>Subject:Have ideas to improve healthcare in In...</td>\n",
              "    </tr>\n",
              "  </tbody>\n",
              "</table>\n",
              "</div>\n",
              "      <button class=\"colab-df-convert\" onclick=\"convertToInteractive('df-b2e12d05-c67d-4e5f-bbb5-042c4515569e')\"\n",
              "              title=\"Convert this dataframe to an interactive table.\"\n",
              "              style=\"display:none;\">\n",
              "        \n",
              "  <svg xmlns=\"http://www.w3.org/2000/svg\" height=\"24px\"viewBox=\"0 0 24 24\"\n",
              "       width=\"24px\">\n",
              "    <path d=\"M0 0h24v24H0V0z\" fill=\"none\"/>\n",
              "    <path d=\"M18.56 5.44l.94 2.06.94-2.06 2.06-.94-2.06-.94-.94-2.06-.94 2.06-2.06.94zm-11 1L8.5 8.5l.94-2.06 2.06-.94-2.06-.94L8.5 2.5l-.94 2.06-2.06.94zm10 10l.94 2.06.94-2.06 2.06-.94-2.06-.94-.94-2.06-.94 2.06-2.06.94z\"/><path d=\"M17.41 7.96l-1.37-1.37c-.4-.4-.92-.59-1.43-.59-.52 0-1.04.2-1.43.59L10.3 9.45l-7.72 7.72c-.78.78-.78 2.05 0 2.83L4 21.41c.39.39.9.59 1.41.59.51 0 1.02-.2 1.41-.59l7.78-7.78 2.81-2.81c.8-.78.8-2.07 0-2.86zM5.41 20L4 18.59l7.72-7.72 1.47 1.35L5.41 20z\"/>\n",
              "  </svg>\n",
              "      </button>\n",
              "      \n",
              "  <style>\n",
              "    .colab-df-container {\n",
              "      display:flex;\n",
              "      flex-wrap:wrap;\n",
              "      gap: 12px;\n",
              "    }\n",
              "\n",
              "    .colab-df-convert {\n",
              "      background-color: #E8F0FE;\n",
              "      border: none;\n",
              "      border-radius: 50%;\n",
              "      cursor: pointer;\n",
              "      display: none;\n",
              "      fill: #1967D2;\n",
              "      height: 32px;\n",
              "      padding: 0 0 0 0;\n",
              "      width: 32px;\n",
              "    }\n",
              "\n",
              "    .colab-df-convert:hover {\n",
              "      background-color: #E2EBFA;\n",
              "      box-shadow: 0px 1px 2px rgba(60, 64, 67, 0.3), 0px 1px 3px 1px rgba(60, 64, 67, 0.15);\n",
              "      fill: #174EA6;\n",
              "    }\n",
              "\n",
              "    [theme=dark] .colab-df-convert {\n",
              "      background-color: #3B4455;\n",
              "      fill: #D2E3FC;\n",
              "    }\n",
              "\n",
              "    [theme=dark] .colab-df-convert:hover {\n",
              "      background-color: #434B5C;\n",
              "      box-shadow: 0px 1px 3px 1px rgba(0, 0, 0, 0.15);\n",
              "      filter: drop-shadow(0px 1px 2px rgba(0, 0, 0, 0.3));\n",
              "      fill: #FFFFFF;\n",
              "    }\n",
              "  </style>\n",
              "\n",
              "      <script>\n",
              "        const buttonEl =\n",
              "          document.querySelector('#df-b2e12d05-c67d-4e5f-bbb5-042c4515569e button.colab-df-convert');\n",
              "        buttonEl.style.display =\n",
              "          google.colab.kernel.accessAllowed ? 'block' : 'none';\n",
              "\n",
              "        async function convertToInteractive(key) {\n",
              "          const element = document.querySelector('#df-b2e12d05-c67d-4e5f-bbb5-042c4515569e');\n",
              "          const dataTable =\n",
              "            await google.colab.kernel.invokeFunction('convertToInteractive',\n",
              "                                                     [key], {});\n",
              "          if (!dataTable) return;\n",
              "\n",
              "          const docLinkHtml = 'Like what you see? Visit the ' +\n",
              "            '<a target=\"_blank\" href=https://colab.research.google.com/notebooks/data_table.ipynb>data table notebook</a>'\n",
              "            + ' to learn more about interactive tables.';\n",
              "          element.innerHTML = '';\n",
              "          dataTable['output_type'] = 'display_data';\n",
              "          await google.colab.output.renderOutput(dataTable, element);\n",
              "          const docLink = document.createElement('div');\n",
              "          docLink.innerHTML = docLinkHtml;\n",
              "          element.appendChild(docLink);\n",
              "        }\n",
              "      </script>\n",
              "    </div>\n",
              "  </div>\n",
              "  "
            ]
          },
          "metadata": {},
          "execution_count": 6
        }
      ],
      "source": [
        "\n",
        "mail_data.head()"
      ]
    },
    {
      "cell_type": "code",
      "execution_count": null,
      "metadata": {
        "colab": {
          "base_uri": "https://localhost:8080/"
        },
        "id": "qmkWr-jAPjKK",
        "outputId": "fb615dd9-8fc0-4924-9ffe-becae1fee37d"
      },
      "outputs": [
        {
          "output_type": "execute_result",
          "data": {
            "text/plain": [
              "(120, 3)"
            ]
          },
          "metadata": {},
          "execution_count": 7
        }
      ],
      "source": [
        "\n",
        "mail_data.shape"
      ]
    },
    {
      "cell_type": "code",
      "execution_count": null,
      "metadata": {
        "id": "o3Y2kqxePjNr"
      },
      "outputs": [],
      "source": [
        "mail_data.loc[mail_data['label'] == 'spam mail', 'label'] = 0\n",
        "mail_data.loc[mail_data['label'] == 'ham mail', 'label'] = 1"
      ]
    },
    {
      "cell_type": "markdown",
      "metadata": {
        "id": "qLS7YSOVQF1s"
      },
      "source": [
        "spam 0\n",
        "ham 1"
      ]
    },
    {
      "cell_type": "code",
      "execution_count": null,
      "metadata": {
        "id": "BQGJ7X-kQMlP"
      },
      "outputs": [],
      "source": [
        "\n",
        "\n",
        "X = mail_data['text']\n",
        "\n",
        "Y = mail_data['label']"
      ]
    },
    {
      "cell_type": "code",
      "execution_count": null,
      "metadata": {
        "colab": {
          "base_uri": "https://localhost:8080/"
        },
        "id": "24i-jGz9QMok",
        "outputId": "15a52b41-d8e5-4c73-caad-d67b58a90e46"
      },
      "outputs": [
        {
          "output_type": "stream",
          "name": "stdout",
          "text": [
            "0      Subject: Thanks for signing into Google on you...\n",
            "1      Subject: Megha, take the next step on your Win...\n",
            "2      Subject: Placement war: Students from these II...\n",
            "3      Subject:Enroll in any course, get 2 Linux berk...\n",
            "4      Subject:Have ideas to improve healthcare in In...\n",
            "                             ...                        \n",
            "115      Subject: young sluts had sex for tewnty bucks\\r\n",
            "116     Subject: take 30 % off with our super ticket !\\r\n",
            "117                              Subject: updated list\\r\n",
            "118               Subject: hpl nom for march 27 , 2001\\r\n",
            "119         Subject: what she doesnt know sprig bashaw\\r\n",
            "Name: text, Length: 120, dtype: object\n"
          ]
        }
      ],
      "source": [
        "print(X)"
      ]
    },
    {
      "cell_type": "code",
      "execution_count": null,
      "metadata": {
        "colab": {
          "base_uri": "https://localhost:8080/"
        },
        "id": "CQXQ1OHtQkXh",
        "outputId": "d243c916-c89c-4b0c-d8f4-c1dfe4539220"
      },
      "outputs": [
        {
          "output_type": "stream",
          "name": "stdout",
          "text": [
            "0       ham\n",
            "1       ham\n",
            "2       ham\n",
            "3      spam\n",
            "4      spam\n",
            "       ... \n",
            "115    spam\n",
            "116     ham\n",
            "117     ham\n",
            "118     ham\n",
            "119    spam\n",
            "Name: label, Length: 120, dtype: object\n"
          ]
        }
      ],
      "source": [
        "print(Y)"
      ]
    },
    {
      "cell_type": "code",
      "execution_count": null,
      "metadata": {
        "id": "yvMiFEXhQkaD"
      },
      "outputs": [],
      "source": [
        "X_train, X_test, Y_train, Y_test = train_test_split(X, Y, test_size=0.2, random_state=3)"
      ]
    },
    {
      "cell_type": "code",
      "execution_count": null,
      "metadata": {
        "colab": {
          "base_uri": "https://localhost:8080/"
        },
        "id": "bVEEpScHQkcx",
        "outputId": "a1b8f5d7-cdc9-43b7-ae27-b13b8fce31c0"
      },
      "outputs": [
        {
          "output_type": "stream",
          "name": "stdout",
          "text": [
            "(120,)\n",
            "(96,)\n",
            "(24,)\n"
          ]
        }
      ],
      "source": [
        "print(X.shape)\n",
        "print(X_train.shape)\n",
        "print(X_test.shape)"
      ]
    },
    {
      "cell_type": "markdown",
      "metadata": {
        "id": "7M65YLpdQ08_"
      },
      "source": [
        "Feature Extraction"
      ]
    },
    {
      "cell_type": "code",
      "execution_count": null,
      "metadata": {
        "id": "w2qSkXMWQkgO"
      },
      "outputs": [],
      "source": [
        "\n",
        "feature_extraction = TfidfVectorizer(min_df = 1, stop_words='english', \n",
        "                                     lowercase='True')\n",
        "\n",
        "X_train_features = feature_extraction.fit_transform(X_train)\n",
        "X_test_features = feature_extraction.transform(X_test)\n",
        "\n"
      ]
    },
    {
      "cell_type": "code",
      "execution_count": null,
      "metadata": {
        "colab": {
          "base_uri": "https://localhost:8080/"
        },
        "id": "6pBfj2bKRRvH",
        "outputId": "cac7fdaa-9370-4fe5-e9a6-8a218b85220f"
      },
      "outputs": [
        {
          "output_type": "stream",
          "name": "stdout",
          "text": [
            "82          Subject: the bull reccomends this stokkpic\\r\n",
            "78       Subject: re : cornhusker - lone star payments\\r\n",
            "34     Subject: enron / hpl actuals for august 28 , 2...\n",
            "87             Subject: hpl noms . for jan . 17 , 2001\\r\n",
            "109                Subject: meter # 1591 lamay gaslift\\r\n",
            "                             ...                        \n",
            "72                    Subject: notification of bequest\\r\n",
            "56            Subject: pathing procedures for buybacks\\r\n",
            "3      Subject:Enroll in any course, get 2 Linux berk...\n",
            "24     Subject: neon retreat\\r ho ho ho , we ' re aro...\n",
            "106    Subject: 108 mbps wireless firewall 4 - port r...\n",
            "Name: text, Length: 96, dtype: object\n"
          ]
        }
      ],
      "source": [
        "print(X_train)"
      ]
    },
    {
      "cell_type": "code",
      "execution_count": null,
      "metadata": {
        "colab": {
          "base_uri": "https://localhost:8080/"
        },
        "id": "9Lx6UVscRRyf",
        "outputId": "eb5efb83-bf7c-4ddf-bac2-0b91a079600b"
      },
      "outputs": [
        {
          "output_type": "stream",
          "name": "stdout",
          "text": [
            "  (0, 383)\t0.5733541089067111\n",
            "  (0, 323)\t0.5733541089067111\n",
            "  (0, 75)\t0.5733541089067111\n",
            "  (0, 387)\t0.11745295824019764\n",
            "  (1, 292)\t0.4973976768671659\n",
            "  (1, 378)\t0.4973976768671659\n",
            "  (1, 236)\t0.4973976768671659\n",
            "  (1, 110)\t0.4973976768671659\n",
            "  (1, 387)\t0.10189310177134538\n",
            "  (2, 17)\t0.3343239299866351\n",
            "  (2, 27)\t0.4987655275233687\n",
            "  (2, 57)\t0.4987655275233687\n",
            "  (2, 38)\t0.3865166744136231\n",
            "  (2, 197)\t0.3343239299866351\n",
            "  (2, 146)\t0.345088962535088\n",
            "  (2, 387)\t0.10217330924436438\n",
            "  (3, 18)\t0.37023608370689753\n",
            "  (3, 12)\t0.5170791824731042\n",
            "  (3, 216)\t0.5170791824731042\n",
            "  (3, 266)\t0.4436576330900009\n",
            "  (3, 197)\t0.34659962419031665\n",
            "  (3, 387)\t0.10592490518938735\n",
            "  (4, 173)\t0.5239620272454901\n",
            "  (4, 228)\t0.5239620272454901\n",
            "  (4, 11)\t0.5239620272454901\n",
            "  :\t:\n",
            "  (92, 307)\t0.5733541089067111\n",
            "  (92, 290)\t0.5733541089067111\n",
            "  (92, 387)\t0.11745295824019764\n",
            "  (93, 69)\t0.44499805838659656\n",
            "  (93, 65)\t0.44499805838659656\n",
            "  (93, 233)\t0.44499805838659656\n",
            "  (93, 112)\t0.44499805838659656\n",
            "  (93, 145)\t0.44499805838659656\n",
            "  (93, 387)\t0.09941649843358863\n",
            "  (94, 448)\t0.2668615871304086\n",
            "  (94, 407)\t0.2668615871304086\n",
            "  (94, 446)\t0.2668615871304086\n",
            "  (94, 193)\t0.8005847613912257\n",
            "  (94, 335)\t0.2668615871304086\n",
            "  (94, 261)\t0.2668615871304086\n",
            "  (94, 387)\t0.054667233324459504\n",
            "  (95, 30)\t0.36172796305209864\n",
            "  (95, 342)\t0.36172796305209864\n",
            "  (95, 299)\t0.36172796305209864\n",
            "  (95, 159)\t0.36172796305209864\n",
            "  (95, 444)\t0.36172796305209864\n",
            "  (95, 245)\t0.36172796305209864\n",
            "  (95, 6)\t0.36172796305209864\n",
            "  (95, 0)\t0.2803198729783112\n",
            "  (95, 387)\t0.07410083694993225\n"
          ]
        }
      ],
      "source": [
        "print(X_train_features)"
      ]
    },
    {
      "cell_type": "markdown",
      "metadata": {
        "id": "KlkIx4nsRfA8"
      },
      "source": [
        "\n",
        "\n",
        "```\n",
        "\n",
        "```\n",
        "\n",
        "\n",
        "\n",
        "Logistic Regression"
      ]
    },
    {
      "cell_type": "code",
      "execution_count": null,
      "metadata": {
        "id": "fyaM4qYcRYo-"
      },
      "outputs": [],
      "source": [
        "model = LogisticRegression()"
      ]
    },
    {
      "cell_type": "code",
      "execution_count": null,
      "metadata": {
        "colab": {
          "base_uri": "https://localhost:8080/"
        },
        "id": "OE78Kq9oRYsV",
        "outputId": "991f5348-f333-4dde-9706-012b33e627cf"
      },
      "outputs": [
        {
          "output_type": "execute_result",
          "data": {
            "text/plain": [
              "LogisticRegression()"
            ]
          },
          "metadata": {},
          "execution_count": 17
        }
      ],
      "source": [
        "# training the Logistic Regression model with the training data\n",
        "model.fit(X_train_features, Y_train)"
      ]
    },
    {
      "cell_type": "markdown",
      "metadata": {
        "id": "drO7GnA6R2V6"
      },
      "source": [
        "Evaluating the trained model"
      ]
    },
    {
      "cell_type": "code",
      "execution_count": null,
      "metadata": {
        "id": "RISKaKIYRR_F"
      },
      "outputs": [],
      "source": [
        "# prediction on training data\n",
        "\n",
        "prediction_on_training_data = model.predict(X_train_features)\n",
        "accuracy_on_training_data = accuracy_score(Y_train, prediction_on_training_data)"
      ]
    },
    {
      "cell_type": "code",
      "execution_count": null,
      "metadata": {
        "colab": {
          "base_uri": "https://localhost:8080/"
        },
        "id": "5FYifi9mR_QA",
        "outputId": "9098139b-cdee-424a-fa41-a4068799d1a3"
      },
      "outputs": [
        {
          "output_type": "stream",
          "name": "stdout",
          "text": [
            "Accuracy on training data :  0.7395833333333334\n"
          ]
        }
      ],
      "source": [
        "print('Accuracy on training data : ', accuracy_on_training_data)"
      ]
    },
    {
      "cell_type": "code",
      "execution_count": null,
      "metadata": {
        "id": "OproYSPER_S5"
      },
      "outputs": [],
      "source": [
        "# prediction on test data\n",
        "\n",
        "prediction_on_test_data = model.predict(X_test_features)\n",
        "accuracy_on_test_data = accuracy_score(Y_test, prediction_on_test_data)"
      ]
    },
    {
      "cell_type": "code",
      "execution_count": null,
      "metadata": {
        "colab": {
          "base_uri": "https://localhost:8080/"
        },
        "id": "Y5JXS7VqSNm3",
        "outputId": "e00e3880-6222-4e08-d85b-55f9200ef0d3"
      },
      "outputs": [
        {
          "output_type": "stream",
          "name": "stdout",
          "text": [
            "['ham']\n"
          ]
        }
      ],
      "source": [
        "input_mail = [\"Subject:Have ideas to improve healthcare in India? You have a chance to win ZS PRIZE\"] \n",
        "input_data_features = feature_extraction.transform(input_mail)\n",
        "\n",
        "# making prediction\n",
        "\n",
        "prediction = model.predict(input_data_features)\n",
        "print(prediction)\n",
        "\n"
      ]
    }
  ],
  "metadata": {
    "colab": {
      "provenance": []
    },
    "kernelspec": {
      "display_name": "Python 3",
      "name": "python3"
    },
    "language_info": {
      "name": "python"
    }
  },
  "nbformat": 4,
  "nbformat_minor": 0
}